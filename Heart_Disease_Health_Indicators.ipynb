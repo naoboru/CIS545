{
  "nbformat": 4,
  "nbformat_minor": 0,
  "metadata": {
    "colab": {
      "provenance": [],
      "include_colab_link": true
    },
    "kernelspec": {
      "name": "python3",
      "display_name": "Python 3"
    },
    "language_info": {
      "name": "python"
    }
  },
  "cells": [
    {
      "cell_type": "markdown",
      "metadata": {
        "id": "view-in-github",
        "colab_type": "text"
      },
      "source": [
        "<a href=\"https://colab.research.google.com/github/naoboru/CIS545/blob/main/Heart_Disease_Health_Indicators.ipynb\" target=\"_parent\"><img src=\"https://colab.research.google.com/assets/colab-badge.svg\" alt=\"Open In Colab\"/></a>"
      ]
    },
    {
      "cell_type": "markdown",
      "source": [
        "# Imports/ Setup\n",
        "Run the following cells to set up the notebook.\n"
      ],
      "metadata": {
        "id": "k4LrKkejDrBp"
      }
    },
    {
      "cell_type": "code",
      "source": [
        "import json\n",
        "import glob\n",
        "import pandas as pd\n",
        "import numpy as np\n",
        "import datetime as dt\n",
        "import re\n",
        "import os\n",
        "import matplotlib.pyplot as plt\n",
        "import seaborn as sns\n",
        "from matplotlib import cm\n",
        "from google.colab import drive\n",
        "from sklearn.model_selection import train_test_split\n",
        "from sklearn.linear_model import LogisticRegression\n",
        "from sklearn.neighbors import KNeighborsClassifier\n",
        "from sklearn.svm import SVC\n",
        "from sklearn import tree\n",
        "from sklearn.ensemble import RandomForestClassifier\n",
        "from sklearn.naive_bayes import GaussianNB\n",
        "from sklearn import metrics\n",
        "from sklearn.utils import resample\n",
        "from collections import Counter\n",
        "import seaborn as sns"
      ],
      "metadata": {
        "id": "dqm5-40BDtXH"
      },
      "execution_count": null,
      "outputs": []
    },
    {
      "cell_type": "markdown",
      "source": [
        "#Motivation"
      ],
      "metadata": {
        "id": "32mskd2yNMtp"
      }
    },
    {
      "cell_type": "markdown",
      "source": [
        "#Exploratory Data Analysis"
      ],
      "metadata": {
        "id": "CYUrsdXoCw-E"
      }
    },
    {
      "cell_type": "markdown",
      "source": [
        "##Load and Analyze Heart Disease Health Indicators Dataset\n",
        "\n",
        "In this code snippet, the goal is to load and analyze the Heart Disease Health Indicators dataset using Python's Pandas library.\n",
        "\n",
        "#Metadata\n",
        "The dataset is stored in a CSV file named `heart_disease_health_indicators.csv`, which contains information about various health indicators related to heart disease.\n",
        "\n",
        "#TO-DO:\n",
        "\n",
        "* Load the `heart_disease_health_indicators.csv` file using the `read_csv()` function from the Pandas library and store it in a dataframe named `heart_data`.\n",
        "\n",
        "* Call the `info()` method on the `heart_data` dataframe to display metadata about the dataset, including the number of non-null values and data types for each column.\n",
        "\n",
        "* Call the `describe()` method on the `heart_data` dataframe to display descriptive statistics for each column, such as count, mean, standard deviation, minimum and maximum values, and quartile values.\n",
        "\n",
        "* By completing these steps, we can gain initial insights into the structure and characteristics of the loaded dataset, which is a crucial first step in any data analysis task."
      ],
      "metadata": {
        "id": "NM4QDbRuxoVa"
      }
    },
    {
      "cell_type": "code",
      "source": [
        "heart_data = pd.read_csv('/content/heart_disease_health_indicators.csv')\n",
        "heart_data.info()"
      ],
      "metadata": {
        "colab": {
          "base_uri": "https://localhost:8080/"
        },
        "id": "Okwg2wkQ5M5t",
        "outputId": "57b18ece-600a-4468-d9a4-30d55889559a"
      },
      "execution_count": null,
      "outputs": [
        {
          "output_type": "stream",
          "name": "stdout",
          "text": [
            "<class 'pandas.core.frame.DataFrame'>\n",
            "RangeIndex: 253680 entries, 0 to 253679\n",
            "Data columns (total 22 columns):\n",
            " #   Column                Non-Null Count   Dtype  \n",
            "---  ------                --------------   -----  \n",
            " 0   HeartDiseaseorAttack  253680 non-null  float64\n",
            " 1   HighBP                253680 non-null  float64\n",
            " 2   HighChol              253680 non-null  float64\n",
            " 3   CholCheck             253680 non-null  float64\n",
            " 4   BMI                   253680 non-null  float64\n",
            " 5   Smoker                253680 non-null  float64\n",
            " 6   Stroke                253680 non-null  float64\n",
            " 7   Diabetes              253680 non-null  float64\n",
            " 8   PhysActivity          253680 non-null  float64\n",
            " 9   Fruits                253680 non-null  float64\n",
            " 10  Veggies               253680 non-null  float64\n",
            " 11  HvyAlcoholConsump     253680 non-null  float64\n",
            " 12  AnyHealthcare         253680 non-null  float64\n",
            " 13  NoDocbcCost           253680 non-null  float64\n",
            " 14  GenHlth               253680 non-null  float64\n",
            " 15  MentHlth              253680 non-null  float64\n",
            " 16  PhysHlth              253680 non-null  float64\n",
            " 17  DiffWalk              253680 non-null  float64\n",
            " 18  Sex                   253680 non-null  float64\n",
            " 19  Age                   253680 non-null  float64\n",
            " 20  Education             253680 non-null  float64\n",
            " 21  Income                253680 non-null  float64\n",
            "dtypes: float64(22)\n",
            "memory usage: 42.6 MB\n"
          ]
        }
      ]
    },
    {
      "cell_type": "code",
      "source": [
        "heart_data.describe()"
      ],
      "metadata": {
        "colab": {
          "base_uri": "https://localhost:8080/",
          "height": 394
        },
        "id": "eWepsVVSE1Ze",
        "outputId": "9fa49c08-39e2-479a-ccaa-6fc97359cc0d"
      },
      "execution_count": null,
      "outputs": [
        {
          "output_type": "execute_result",
          "data": {
            "text/plain": [
              "       HeartDiseaseorAttack         HighBP       HighChol      CholCheck  \\\n",
              "count         253680.000000  253680.000000  253680.000000  253680.000000   \n",
              "mean               0.094186       0.429001       0.424121       0.962670   \n",
              "std                0.292087       0.494934       0.494210       0.189571   \n",
              "min                0.000000       0.000000       0.000000       0.000000   \n",
              "25%                0.000000       0.000000       0.000000       1.000000   \n",
              "50%                0.000000       0.000000       0.000000       1.000000   \n",
              "75%                0.000000       1.000000       1.000000       1.000000   \n",
              "max                1.000000       1.000000       1.000000       1.000000   \n",
              "\n",
              "                 BMI         Smoker         Stroke       Diabetes  \\\n",
              "count  253680.000000  253680.000000  253680.000000  253680.000000   \n",
              "mean       28.382364       0.443169       0.040571       0.296921   \n",
              "std         6.608694       0.496761       0.197294       0.698160   \n",
              "min        12.000000       0.000000       0.000000       0.000000   \n",
              "25%        24.000000       0.000000       0.000000       0.000000   \n",
              "50%        27.000000       0.000000       0.000000       0.000000   \n",
              "75%        31.000000       1.000000       0.000000       0.000000   \n",
              "max        98.000000       1.000000       1.000000       2.000000   \n",
              "\n",
              "        PhysActivity         Fruits  ...  AnyHealthcare    NoDocbcCost  \\\n",
              "count  253680.000000  253680.000000  ...  253680.000000  253680.000000   \n",
              "mean        0.756544       0.634256  ...       0.951053       0.084177   \n",
              "std         0.429169       0.481639  ...       0.215759       0.277654   \n",
              "min         0.000000       0.000000  ...       0.000000       0.000000   \n",
              "25%         1.000000       0.000000  ...       1.000000       0.000000   \n",
              "50%         1.000000       1.000000  ...       1.000000       0.000000   \n",
              "75%         1.000000       1.000000  ...       1.000000       0.000000   \n",
              "max         1.000000       1.000000  ...       1.000000       1.000000   \n",
              "\n",
              "             GenHlth       MentHlth       PhysHlth       DiffWalk  \\\n",
              "count  253680.000000  253680.000000  253680.000000  253680.000000   \n",
              "mean        2.511392       3.184772       4.242081       0.168224   \n",
              "std         1.068477       7.412847       8.717951       0.374066   \n",
              "min         1.000000       0.000000       0.000000       0.000000   \n",
              "25%         2.000000       0.000000       0.000000       0.000000   \n",
              "50%         2.000000       0.000000       0.000000       0.000000   \n",
              "75%         3.000000       2.000000       3.000000       0.000000   \n",
              "max         5.000000      30.000000      30.000000       1.000000   \n",
              "\n",
              "                 Sex            Age      Education         Income  \n",
              "count  253680.000000  253680.000000  253680.000000  253680.000000  \n",
              "mean        0.440342       8.032119       5.050434       6.053875  \n",
              "std         0.496429       3.054220       0.985774       2.071148  \n",
              "min         0.000000       1.000000       1.000000       1.000000  \n",
              "25%         0.000000       6.000000       4.000000       5.000000  \n",
              "50%         0.000000       8.000000       5.000000       7.000000  \n",
              "75%         1.000000      10.000000       6.000000       8.000000  \n",
              "max         1.000000      13.000000       6.000000       8.000000  \n",
              "\n",
              "[8 rows x 22 columns]"
            ],
            "text/html": [
              "\n",
              "  <div id=\"df-86880e01-2d22-4423-bed7-0a4be8122d1c\">\n",
              "    <div class=\"colab-df-container\">\n",
              "      <div>\n",
              "<style scoped>\n",
              "    .dataframe tbody tr th:only-of-type {\n",
              "        vertical-align: middle;\n",
              "    }\n",
              "\n",
              "    .dataframe tbody tr th {\n",
              "        vertical-align: top;\n",
              "    }\n",
              "\n",
              "    .dataframe thead th {\n",
              "        text-align: right;\n",
              "    }\n",
              "</style>\n",
              "<table border=\"1\" class=\"dataframe\">\n",
              "  <thead>\n",
              "    <tr style=\"text-align: right;\">\n",
              "      <th></th>\n",
              "      <th>HeartDiseaseorAttack</th>\n",
              "      <th>HighBP</th>\n",
              "      <th>HighChol</th>\n",
              "      <th>CholCheck</th>\n",
              "      <th>BMI</th>\n",
              "      <th>Smoker</th>\n",
              "      <th>Stroke</th>\n",
              "      <th>Diabetes</th>\n",
              "      <th>PhysActivity</th>\n",
              "      <th>Fruits</th>\n",
              "      <th>...</th>\n",
              "      <th>AnyHealthcare</th>\n",
              "      <th>NoDocbcCost</th>\n",
              "      <th>GenHlth</th>\n",
              "      <th>MentHlth</th>\n",
              "      <th>PhysHlth</th>\n",
              "      <th>DiffWalk</th>\n",
              "      <th>Sex</th>\n",
              "      <th>Age</th>\n",
              "      <th>Education</th>\n",
              "      <th>Income</th>\n",
              "    </tr>\n",
              "  </thead>\n",
              "  <tbody>\n",
              "    <tr>\n",
              "      <th>count</th>\n",
              "      <td>253680.000000</td>\n",
              "      <td>253680.000000</td>\n",
              "      <td>253680.000000</td>\n",
              "      <td>253680.000000</td>\n",
              "      <td>253680.000000</td>\n",
              "      <td>253680.000000</td>\n",
              "      <td>253680.000000</td>\n",
              "      <td>253680.000000</td>\n",
              "      <td>253680.000000</td>\n",
              "      <td>253680.000000</td>\n",
              "      <td>...</td>\n",
              "      <td>253680.000000</td>\n",
              "      <td>253680.000000</td>\n",
              "      <td>253680.000000</td>\n",
              "      <td>253680.000000</td>\n",
              "      <td>253680.000000</td>\n",
              "      <td>253680.000000</td>\n",
              "      <td>253680.000000</td>\n",
              "      <td>253680.000000</td>\n",
              "      <td>253680.000000</td>\n",
              "      <td>253680.000000</td>\n",
              "    </tr>\n",
              "    <tr>\n",
              "      <th>mean</th>\n",
              "      <td>0.094186</td>\n",
              "      <td>0.429001</td>\n",
              "      <td>0.424121</td>\n",
              "      <td>0.962670</td>\n",
              "      <td>28.382364</td>\n",
              "      <td>0.443169</td>\n",
              "      <td>0.040571</td>\n",
              "      <td>0.296921</td>\n",
              "      <td>0.756544</td>\n",
              "      <td>0.634256</td>\n",
              "      <td>...</td>\n",
              "      <td>0.951053</td>\n",
              "      <td>0.084177</td>\n",
              "      <td>2.511392</td>\n",
              "      <td>3.184772</td>\n",
              "      <td>4.242081</td>\n",
              "      <td>0.168224</td>\n",
              "      <td>0.440342</td>\n",
              "      <td>8.032119</td>\n",
              "      <td>5.050434</td>\n",
              "      <td>6.053875</td>\n",
              "    </tr>\n",
              "    <tr>\n",
              "      <th>std</th>\n",
              "      <td>0.292087</td>\n",
              "      <td>0.494934</td>\n",
              "      <td>0.494210</td>\n",
              "      <td>0.189571</td>\n",
              "      <td>6.608694</td>\n",
              "      <td>0.496761</td>\n",
              "      <td>0.197294</td>\n",
              "      <td>0.698160</td>\n",
              "      <td>0.429169</td>\n",
              "      <td>0.481639</td>\n",
              "      <td>...</td>\n",
              "      <td>0.215759</td>\n",
              "      <td>0.277654</td>\n",
              "      <td>1.068477</td>\n",
              "      <td>7.412847</td>\n",
              "      <td>8.717951</td>\n",
              "      <td>0.374066</td>\n",
              "      <td>0.496429</td>\n",
              "      <td>3.054220</td>\n",
              "      <td>0.985774</td>\n",
              "      <td>2.071148</td>\n",
              "    </tr>\n",
              "    <tr>\n",
              "      <th>min</th>\n",
              "      <td>0.000000</td>\n",
              "      <td>0.000000</td>\n",
              "      <td>0.000000</td>\n",
              "      <td>0.000000</td>\n",
              "      <td>12.000000</td>\n",
              "      <td>0.000000</td>\n",
              "      <td>0.000000</td>\n",
              "      <td>0.000000</td>\n",
              "      <td>0.000000</td>\n",
              "      <td>0.000000</td>\n",
              "      <td>...</td>\n",
              "      <td>0.000000</td>\n",
              "      <td>0.000000</td>\n",
              "      <td>1.000000</td>\n",
              "      <td>0.000000</td>\n",
              "      <td>0.000000</td>\n",
              "      <td>0.000000</td>\n",
              "      <td>0.000000</td>\n",
              "      <td>1.000000</td>\n",
              "      <td>1.000000</td>\n",
              "      <td>1.000000</td>\n",
              "    </tr>\n",
              "    <tr>\n",
              "      <th>25%</th>\n",
              "      <td>0.000000</td>\n",
              "      <td>0.000000</td>\n",
              "      <td>0.000000</td>\n",
              "      <td>1.000000</td>\n",
              "      <td>24.000000</td>\n",
              "      <td>0.000000</td>\n",
              "      <td>0.000000</td>\n",
              "      <td>0.000000</td>\n",
              "      <td>1.000000</td>\n",
              "      <td>0.000000</td>\n",
              "      <td>...</td>\n",
              "      <td>1.000000</td>\n",
              "      <td>0.000000</td>\n",
              "      <td>2.000000</td>\n",
              "      <td>0.000000</td>\n",
              "      <td>0.000000</td>\n",
              "      <td>0.000000</td>\n",
              "      <td>0.000000</td>\n",
              "      <td>6.000000</td>\n",
              "      <td>4.000000</td>\n",
              "      <td>5.000000</td>\n",
              "    </tr>\n",
              "    <tr>\n",
              "      <th>50%</th>\n",
              "      <td>0.000000</td>\n",
              "      <td>0.000000</td>\n",
              "      <td>0.000000</td>\n",
              "      <td>1.000000</td>\n",
              "      <td>27.000000</td>\n",
              "      <td>0.000000</td>\n",
              "      <td>0.000000</td>\n",
              "      <td>0.000000</td>\n",
              "      <td>1.000000</td>\n",
              "      <td>1.000000</td>\n",
              "      <td>...</td>\n",
              "      <td>1.000000</td>\n",
              "      <td>0.000000</td>\n",
              "      <td>2.000000</td>\n",
              "      <td>0.000000</td>\n",
              "      <td>0.000000</td>\n",
              "      <td>0.000000</td>\n",
              "      <td>0.000000</td>\n",
              "      <td>8.000000</td>\n",
              "      <td>5.000000</td>\n",
              "      <td>7.000000</td>\n",
              "    </tr>\n",
              "    <tr>\n",
              "      <th>75%</th>\n",
              "      <td>0.000000</td>\n",
              "      <td>1.000000</td>\n",
              "      <td>1.000000</td>\n",
              "      <td>1.000000</td>\n",
              "      <td>31.000000</td>\n",
              "      <td>1.000000</td>\n",
              "      <td>0.000000</td>\n",
              "      <td>0.000000</td>\n",
              "      <td>1.000000</td>\n",
              "      <td>1.000000</td>\n",
              "      <td>...</td>\n",
              "      <td>1.000000</td>\n",
              "      <td>0.000000</td>\n",
              "      <td>3.000000</td>\n",
              "      <td>2.000000</td>\n",
              "      <td>3.000000</td>\n",
              "      <td>0.000000</td>\n",
              "      <td>1.000000</td>\n",
              "      <td>10.000000</td>\n",
              "      <td>6.000000</td>\n",
              "      <td>8.000000</td>\n",
              "    </tr>\n",
              "    <tr>\n",
              "      <th>max</th>\n",
              "      <td>1.000000</td>\n",
              "      <td>1.000000</td>\n",
              "      <td>1.000000</td>\n",
              "      <td>1.000000</td>\n",
              "      <td>98.000000</td>\n",
              "      <td>1.000000</td>\n",
              "      <td>1.000000</td>\n",
              "      <td>2.000000</td>\n",
              "      <td>1.000000</td>\n",
              "      <td>1.000000</td>\n",
              "      <td>...</td>\n",
              "      <td>1.000000</td>\n",
              "      <td>1.000000</td>\n",
              "      <td>5.000000</td>\n",
              "      <td>30.000000</td>\n",
              "      <td>30.000000</td>\n",
              "      <td>1.000000</td>\n",
              "      <td>1.000000</td>\n",
              "      <td>13.000000</td>\n",
              "      <td>6.000000</td>\n",
              "      <td>8.000000</td>\n",
              "    </tr>\n",
              "  </tbody>\n",
              "</table>\n",
              "<p>8 rows × 22 columns</p>\n",
              "</div>\n",
              "      <button class=\"colab-df-convert\" onclick=\"convertToInteractive('df-86880e01-2d22-4423-bed7-0a4be8122d1c')\"\n",
              "              title=\"Convert this dataframe to an interactive table.\"\n",
              "              style=\"display:none;\">\n",
              "        \n",
              "  <svg xmlns=\"http://www.w3.org/2000/svg\" height=\"24px\"viewBox=\"0 0 24 24\"\n",
              "       width=\"24px\">\n",
              "    <path d=\"M0 0h24v24H0V0z\" fill=\"none\"/>\n",
              "    <path d=\"M18.56 5.44l.94 2.06.94-2.06 2.06-.94-2.06-.94-.94-2.06-.94 2.06-2.06.94zm-11 1L8.5 8.5l.94-2.06 2.06-.94-2.06-.94L8.5 2.5l-.94 2.06-2.06.94zm10 10l.94 2.06.94-2.06 2.06-.94-2.06-.94-.94-2.06-.94 2.06-2.06.94z\"/><path d=\"M17.41 7.96l-1.37-1.37c-.4-.4-.92-.59-1.43-.59-.52 0-1.04.2-1.43.59L10.3 9.45l-7.72 7.72c-.78.78-.78 2.05 0 2.83L4 21.41c.39.39.9.59 1.41.59.51 0 1.02-.2 1.41-.59l7.78-7.78 2.81-2.81c.8-.78.8-2.07 0-2.86zM5.41 20L4 18.59l7.72-7.72 1.47 1.35L5.41 20z\"/>\n",
              "  </svg>\n",
              "      </button>\n",
              "      \n",
              "  <style>\n",
              "    .colab-df-container {\n",
              "      display:flex;\n",
              "      flex-wrap:wrap;\n",
              "      gap: 12px;\n",
              "    }\n",
              "\n",
              "    .colab-df-convert {\n",
              "      background-color: #E8F0FE;\n",
              "      border: none;\n",
              "      border-radius: 50%;\n",
              "      cursor: pointer;\n",
              "      display: none;\n",
              "      fill: #1967D2;\n",
              "      height: 32px;\n",
              "      padding: 0 0 0 0;\n",
              "      width: 32px;\n",
              "    }\n",
              "\n",
              "    .colab-df-convert:hover {\n",
              "      background-color: #E2EBFA;\n",
              "      box-shadow: 0px 1px 2px rgba(60, 64, 67, 0.3), 0px 1px 3px 1px rgba(60, 64, 67, 0.15);\n",
              "      fill: #174EA6;\n",
              "    }\n",
              "\n",
              "    [theme=dark] .colab-df-convert {\n",
              "      background-color: #3B4455;\n",
              "      fill: #D2E3FC;\n",
              "    }\n",
              "\n",
              "    [theme=dark] .colab-df-convert:hover {\n",
              "      background-color: #434B5C;\n",
              "      box-shadow: 0px 1px 3px 1px rgba(0, 0, 0, 0.15);\n",
              "      filter: drop-shadow(0px 1px 2px rgba(0, 0, 0, 0.3));\n",
              "      fill: #FFFFFF;\n",
              "    }\n",
              "  </style>\n",
              "\n",
              "      <script>\n",
              "        const buttonEl =\n",
              "          document.querySelector('#df-86880e01-2d22-4423-bed7-0a4be8122d1c button.colab-df-convert');\n",
              "        buttonEl.style.display =\n",
              "          google.colab.kernel.accessAllowed ? 'block' : 'none';\n",
              "\n",
              "        async function convertToInteractive(key) {\n",
              "          const element = document.querySelector('#df-86880e01-2d22-4423-bed7-0a4be8122d1c');\n",
              "          const dataTable =\n",
              "            await google.colab.kernel.invokeFunction('convertToInteractive',\n",
              "                                                     [key], {});\n",
              "          if (!dataTable) return;\n",
              "\n",
              "          const docLinkHtml = 'Like what you see? Visit the ' +\n",
              "            '<a target=\"_blank\" href=https://colab.research.google.com/notebooks/data_table.ipynb>data table notebook</a>'\n",
              "            + ' to learn more about interactive tables.';\n",
              "          element.innerHTML = '';\n",
              "          dataTable['output_type'] = 'display_data';\n",
              "          await google.colab.output.renderOutput(dataTable, element);\n",
              "          const docLink = document.createElement('div');\n",
              "          docLink.innerHTML = docLinkHtml;\n",
              "          element.appendChild(docLink);\n",
              "        }\n",
              "      </script>\n",
              "    </div>\n",
              "  </div>\n",
              "  "
            ]
          },
          "metadata": {},
          "execution_count": 4
        }
      ]
    },
    {
      "cell_type": "markdown",
      "source": [
        "###Data Cleaning of Heart Disease Health Indicators Dataset\n",
        "\n",
        "In this code snippet, the goal is to clean the Heart Disease Health Indicators dataset using Python's Pandas library.\n",
        "\n",
        "**TO-DO**:\n",
        "\n",
        "* Remove all rows with missing values using the `dropna()` method on the `heart_data` dataframe. This will remove any incomplete data that could potentially bias our analysis.\n",
        "\n",
        "* Display the first few rows of the 'heart_data' dataframe using the `head()` method to ensure that the data looks correct after removing missing values.\n",
        "\n",
        "* Rename the following columns in the `heart_data` dataframe using the `rename()` method: `HighBP` to `HighBloodPressure`, `HighChol` to `HighCholesterol`, `CholCheck` to `CholesterolCheck`, `DiffWalk` to `DifficultyWalking`, `AnyHealthcare` to `HasHealthcare`, `NoDocbcCost` to `CantAffordDoc`, `GenHlth` to `GeneralHealth`, `MentHlth` to `MentalHealth`, `PhysHlth` to `PhysicalHealth`. This will make the column names more descriptive and easier to understand.\n",
        "\n",
        "After performing these steps, we will have a cleaner and more understandable dataset that is ready for further analysis."
      ],
      "metadata": {
        "id": "EdY9ikl6zp-K"
      }
    },
    {
      "cell_type": "code",
      "source": [
        "heart_data.dropna(inplace= True)\n",
        "\n",
        "heart_data.head()"
      ],
      "metadata": {
        "id": "Oe751yJHhPmA",
        "colab": {
          "base_uri": "https://localhost:8080/",
          "height": 300
        },
        "outputId": "07becc0e-bc55-4f9d-bc69-55f1ac15b6e6"
      },
      "execution_count": null,
      "outputs": [
        {
          "output_type": "execute_result",
          "data": {
            "text/plain": [
              "   HeartDiseaseorAttack  HighBP  HighChol  CholCheck   BMI  Smoker  Stroke  \\\n",
              "0                   0.0     1.0       1.0        1.0  40.0     1.0     0.0   \n",
              "1                   0.0     0.0       0.0        0.0  25.0     1.0     0.0   \n",
              "2                   0.0     1.0       1.0        1.0  28.0     0.0     0.0   \n",
              "3                   0.0     1.0       0.0        1.0  27.0     0.0     0.0   \n",
              "4                   0.0     1.0       1.0        1.0  24.0     0.0     0.0   \n",
              "\n",
              "   Diabetes  PhysActivity  Fruits  ...  AnyHealthcare  NoDocbcCost  GenHlth  \\\n",
              "0       0.0           0.0     0.0  ...            1.0          0.0      5.0   \n",
              "1       0.0           1.0     0.0  ...            0.0          1.0      3.0   \n",
              "2       0.0           0.0     1.0  ...            1.0          1.0      5.0   \n",
              "3       0.0           1.0     1.0  ...            1.0          0.0      2.0   \n",
              "4       0.0           1.0     1.0  ...            1.0          0.0      2.0   \n",
              "\n",
              "   MentHlth  PhysHlth  DiffWalk  Sex   Age  Education  Income  \n",
              "0      18.0      15.0       1.0  0.0   9.0        4.0     3.0  \n",
              "1       0.0       0.0       0.0  0.0   7.0        6.0     1.0  \n",
              "2      30.0      30.0       1.0  0.0   9.0        4.0     8.0  \n",
              "3       0.0       0.0       0.0  0.0  11.0        3.0     6.0  \n",
              "4       3.0       0.0       0.0  0.0  11.0        5.0     4.0  \n",
              "\n",
              "[5 rows x 22 columns]"
            ],
            "text/html": [
              "\n",
              "  <div id=\"df-c8b61b50-0470-47ad-9099-c1cbab84f56f\">\n",
              "    <div class=\"colab-df-container\">\n",
              "      <div>\n",
              "<style scoped>\n",
              "    .dataframe tbody tr th:only-of-type {\n",
              "        vertical-align: middle;\n",
              "    }\n",
              "\n",
              "    .dataframe tbody tr th {\n",
              "        vertical-align: top;\n",
              "    }\n",
              "\n",
              "    .dataframe thead th {\n",
              "        text-align: right;\n",
              "    }\n",
              "</style>\n",
              "<table border=\"1\" class=\"dataframe\">\n",
              "  <thead>\n",
              "    <tr style=\"text-align: right;\">\n",
              "      <th></th>\n",
              "      <th>HeartDiseaseorAttack</th>\n",
              "      <th>HighBP</th>\n",
              "      <th>HighChol</th>\n",
              "      <th>CholCheck</th>\n",
              "      <th>BMI</th>\n",
              "      <th>Smoker</th>\n",
              "      <th>Stroke</th>\n",
              "      <th>Diabetes</th>\n",
              "      <th>PhysActivity</th>\n",
              "      <th>Fruits</th>\n",
              "      <th>...</th>\n",
              "      <th>AnyHealthcare</th>\n",
              "      <th>NoDocbcCost</th>\n",
              "      <th>GenHlth</th>\n",
              "      <th>MentHlth</th>\n",
              "      <th>PhysHlth</th>\n",
              "      <th>DiffWalk</th>\n",
              "      <th>Sex</th>\n",
              "      <th>Age</th>\n",
              "      <th>Education</th>\n",
              "      <th>Income</th>\n",
              "    </tr>\n",
              "  </thead>\n",
              "  <tbody>\n",
              "    <tr>\n",
              "      <th>0</th>\n",
              "      <td>0.0</td>\n",
              "      <td>1.0</td>\n",
              "      <td>1.0</td>\n",
              "      <td>1.0</td>\n",
              "      <td>40.0</td>\n",
              "      <td>1.0</td>\n",
              "      <td>0.0</td>\n",
              "      <td>0.0</td>\n",
              "      <td>0.0</td>\n",
              "      <td>0.0</td>\n",
              "      <td>...</td>\n",
              "      <td>1.0</td>\n",
              "      <td>0.0</td>\n",
              "      <td>5.0</td>\n",
              "      <td>18.0</td>\n",
              "      <td>15.0</td>\n",
              "      <td>1.0</td>\n",
              "      <td>0.0</td>\n",
              "      <td>9.0</td>\n",
              "      <td>4.0</td>\n",
              "      <td>3.0</td>\n",
              "    </tr>\n",
              "    <tr>\n",
              "      <th>1</th>\n",
              "      <td>0.0</td>\n",
              "      <td>0.0</td>\n",
              "      <td>0.0</td>\n",
              "      <td>0.0</td>\n",
              "      <td>25.0</td>\n",
              "      <td>1.0</td>\n",
              "      <td>0.0</td>\n",
              "      <td>0.0</td>\n",
              "      <td>1.0</td>\n",
              "      <td>0.0</td>\n",
              "      <td>...</td>\n",
              "      <td>0.0</td>\n",
              "      <td>1.0</td>\n",
              "      <td>3.0</td>\n",
              "      <td>0.0</td>\n",
              "      <td>0.0</td>\n",
              "      <td>0.0</td>\n",
              "      <td>0.0</td>\n",
              "      <td>7.0</td>\n",
              "      <td>6.0</td>\n",
              "      <td>1.0</td>\n",
              "    </tr>\n",
              "    <tr>\n",
              "      <th>2</th>\n",
              "      <td>0.0</td>\n",
              "      <td>1.0</td>\n",
              "      <td>1.0</td>\n",
              "      <td>1.0</td>\n",
              "      <td>28.0</td>\n",
              "      <td>0.0</td>\n",
              "      <td>0.0</td>\n",
              "      <td>0.0</td>\n",
              "      <td>0.0</td>\n",
              "      <td>1.0</td>\n",
              "      <td>...</td>\n",
              "      <td>1.0</td>\n",
              "      <td>1.0</td>\n",
              "      <td>5.0</td>\n",
              "      <td>30.0</td>\n",
              "      <td>30.0</td>\n",
              "      <td>1.0</td>\n",
              "      <td>0.0</td>\n",
              "      <td>9.0</td>\n",
              "      <td>4.0</td>\n",
              "      <td>8.0</td>\n",
              "    </tr>\n",
              "    <tr>\n",
              "      <th>3</th>\n",
              "      <td>0.0</td>\n",
              "      <td>1.0</td>\n",
              "      <td>0.0</td>\n",
              "      <td>1.0</td>\n",
              "      <td>27.0</td>\n",
              "      <td>0.0</td>\n",
              "      <td>0.0</td>\n",
              "      <td>0.0</td>\n",
              "      <td>1.0</td>\n",
              "      <td>1.0</td>\n",
              "      <td>...</td>\n",
              "      <td>1.0</td>\n",
              "      <td>0.0</td>\n",
              "      <td>2.0</td>\n",
              "      <td>0.0</td>\n",
              "      <td>0.0</td>\n",
              "      <td>0.0</td>\n",
              "      <td>0.0</td>\n",
              "      <td>11.0</td>\n",
              "      <td>3.0</td>\n",
              "      <td>6.0</td>\n",
              "    </tr>\n",
              "    <tr>\n",
              "      <th>4</th>\n",
              "      <td>0.0</td>\n",
              "      <td>1.0</td>\n",
              "      <td>1.0</td>\n",
              "      <td>1.0</td>\n",
              "      <td>24.0</td>\n",
              "      <td>0.0</td>\n",
              "      <td>0.0</td>\n",
              "      <td>0.0</td>\n",
              "      <td>1.0</td>\n",
              "      <td>1.0</td>\n",
              "      <td>...</td>\n",
              "      <td>1.0</td>\n",
              "      <td>0.0</td>\n",
              "      <td>2.0</td>\n",
              "      <td>3.0</td>\n",
              "      <td>0.0</td>\n",
              "      <td>0.0</td>\n",
              "      <td>0.0</td>\n",
              "      <td>11.0</td>\n",
              "      <td>5.0</td>\n",
              "      <td>4.0</td>\n",
              "    </tr>\n",
              "  </tbody>\n",
              "</table>\n",
              "<p>5 rows × 22 columns</p>\n",
              "</div>\n",
              "      <button class=\"colab-df-convert\" onclick=\"convertToInteractive('df-c8b61b50-0470-47ad-9099-c1cbab84f56f')\"\n",
              "              title=\"Convert this dataframe to an interactive table.\"\n",
              "              style=\"display:none;\">\n",
              "        \n",
              "  <svg xmlns=\"http://www.w3.org/2000/svg\" height=\"24px\"viewBox=\"0 0 24 24\"\n",
              "       width=\"24px\">\n",
              "    <path d=\"M0 0h24v24H0V0z\" fill=\"none\"/>\n",
              "    <path d=\"M18.56 5.44l.94 2.06.94-2.06 2.06-.94-2.06-.94-.94-2.06-.94 2.06-2.06.94zm-11 1L8.5 8.5l.94-2.06 2.06-.94-2.06-.94L8.5 2.5l-.94 2.06-2.06.94zm10 10l.94 2.06.94-2.06 2.06-.94-2.06-.94-.94-2.06-.94 2.06-2.06.94z\"/><path d=\"M17.41 7.96l-1.37-1.37c-.4-.4-.92-.59-1.43-.59-.52 0-1.04.2-1.43.59L10.3 9.45l-7.72 7.72c-.78.78-.78 2.05 0 2.83L4 21.41c.39.39.9.59 1.41.59.51 0 1.02-.2 1.41-.59l7.78-7.78 2.81-2.81c.8-.78.8-2.07 0-2.86zM5.41 20L4 18.59l7.72-7.72 1.47 1.35L5.41 20z\"/>\n",
              "  </svg>\n",
              "      </button>\n",
              "      \n",
              "  <style>\n",
              "    .colab-df-container {\n",
              "      display:flex;\n",
              "      flex-wrap:wrap;\n",
              "      gap: 12px;\n",
              "    }\n",
              "\n",
              "    .colab-df-convert {\n",
              "      background-color: #E8F0FE;\n",
              "      border: none;\n",
              "      border-radius: 50%;\n",
              "      cursor: pointer;\n",
              "      display: none;\n",
              "      fill: #1967D2;\n",
              "      height: 32px;\n",
              "      padding: 0 0 0 0;\n",
              "      width: 32px;\n",
              "    }\n",
              "\n",
              "    .colab-df-convert:hover {\n",
              "      background-color: #E2EBFA;\n",
              "      box-shadow: 0px 1px 2px rgba(60, 64, 67, 0.3), 0px 1px 3px 1px rgba(60, 64, 67, 0.15);\n",
              "      fill: #174EA6;\n",
              "    }\n",
              "\n",
              "    [theme=dark] .colab-df-convert {\n",
              "      background-color: #3B4455;\n",
              "      fill: #D2E3FC;\n",
              "    }\n",
              "\n",
              "    [theme=dark] .colab-df-convert:hover {\n",
              "      background-color: #434B5C;\n",
              "      box-shadow: 0px 1px 3px 1px rgba(0, 0, 0, 0.15);\n",
              "      filter: drop-shadow(0px 1px 2px rgba(0, 0, 0, 0.3));\n",
              "      fill: #FFFFFF;\n",
              "    }\n",
              "  </style>\n",
              "\n",
              "      <script>\n",
              "        const buttonEl =\n",
              "          document.querySelector('#df-c8b61b50-0470-47ad-9099-c1cbab84f56f button.colab-df-convert');\n",
              "        buttonEl.style.display =\n",
              "          google.colab.kernel.accessAllowed ? 'block' : 'none';\n",
              "\n",
              "        async function convertToInteractive(key) {\n",
              "          const element = document.querySelector('#df-c8b61b50-0470-47ad-9099-c1cbab84f56f');\n",
              "          const dataTable =\n",
              "            await google.colab.kernel.invokeFunction('convertToInteractive',\n",
              "                                                     [key], {});\n",
              "          if (!dataTable) return;\n",
              "\n",
              "          const docLinkHtml = 'Like what you see? Visit the ' +\n",
              "            '<a target=\"_blank\" href=https://colab.research.google.com/notebooks/data_table.ipynb>data table notebook</a>'\n",
              "            + ' to learn more about interactive tables.';\n",
              "          element.innerHTML = '';\n",
              "          dataTable['output_type'] = 'display_data';\n",
              "          await google.colab.output.renderOutput(dataTable, element);\n",
              "          const docLink = document.createElement('div');\n",
              "          docLink.innerHTML = docLinkHtml;\n",
              "          element.appendChild(docLink);\n",
              "        }\n",
              "      </script>\n",
              "    </div>\n",
              "  </div>\n",
              "  "
            ]
          },
          "metadata": {},
          "execution_count": 5
        }
      ]
    },
    {
      "cell_type": "code",
      "source": [
        "heart_data.rename(columns = {'HighBP':'HighBloodPressure', 'HighChol':'HighCholesterol', 'CholCheck':'CholesterolCheck', \\\n",
        "                             'DiffWalk':'DifficultyWalking', 'AnyHealthcare':'HasHealthcare', 'NoDocbcCost':'CantAffordDoc', \\\n",
        "                             'GenHlth':'GeneralHealth', 'MentHlth':'MentalHealth', 'PhysHlth':'PhysicalHealth'}, inplace=True)"
      ],
      "metadata": {
        "id": "VQFuG0GehS3-"
      },
      "execution_count": null,
      "outputs": []
    },
    {
      "cell_type": "markdown",
      "source": [
        "### Transform Data in Heart Disease Health Indicators Dataset\n",
        "\n",
        "In this code snippet, the goal is to transform the Heart Disease Health Indicators dataset using Python's Pandas library.\n",
        "\n",
        "**TO-DO**:\n",
        "* Define two helper functions named `transformMentPhysHealth(x)` and `transformGenHealth(x)`. These functions will be used to transform the data in the `MentalHealth`, `PhysicalHealth`, and 'GeneralHealth' columns to numerical values that can be used in analysis.\n",
        "\n",
        "* Combine values of 1 and 2 in the `Diabetes` column to be 1 using the `apply()` method on the `heart_data` dataframe. This will make it easier to analyze diabetes as a binary variable.\n",
        "\n",
        "* Apply the `transformMentPhysHealth(x)` function to the `MentalHealth` and `PhysicalHealth` columns using the `apply()` method on the `heart_data` dataframe.\n",
        "\n",
        "* Apply the `transformGenHealth(x)` function to the `GeneralHealth` column using the `apply()` method on the `heart_data` dataframe.\n",
        "\n",
        "After performing these transformations, display the first few rows of the `heart_data` dataframe using the `head()` method to ensure that the data looks correct."
      ],
      "metadata": {
        "id": "irFu1_2e1Pmn"
      }
    },
    {
      "cell_type": "code",
      "source": [
        "def transformMentPhysHealth(x) :\n",
        "  if x == 0:\n",
        "    return 4.0\n",
        "  elif x > 0 and x <= 8:\n",
        "    return 3.0\n",
        "  elif x > 8 and x <= 16:\n",
        "    return 2.0\n",
        "  elif x > 16 and x <= 24:\n",
        "    return 1.0\n",
        "  elif x > 24 and x <= 31:\n",
        "    return 0.0\n",
        "\n",
        "def transformGenHealth(x) :\n",
        "  if x == 1.0:\n",
        "    return 5.0\n",
        "  elif x == 2.0:\n",
        "    return 4.0\n",
        "  elif x == 3.0:\n",
        "    return 3.0\n",
        "  elif x == 4.0:\n",
        "    return 2.0\n",
        "  elif x == 5.0:\n",
        "    return 1.0"
      ],
      "metadata": {
        "id": "96Jr7yD6daXs"
      },
      "execution_count": null,
      "outputs": []
    },
    {
      "cell_type": "code",
      "source": [
        "#combine values of 1 and 2 in diabetes to be 1, change mental health to scale of 4,\n",
        "#change physical health to scale of 4, invert general health numbers\n",
        "heart_data['Diabetes'] = heart_data.apply(lambda x: 0 if x['Diabetes']==0 else 1, axis=1)\n",
        "heart_data['MentalHealth'] = heart_data['MentalHealth'].apply(lambda x : transformMentPhysHealth(x))\n",
        "heart_data['PhysicalHealth'] = heart_data['PhysicalHealth'].apply(lambda x : transformMentPhysHealth(x))\n",
        "heart_data['GeneralHealth'] = heart_data['GeneralHealth'].apply(lambda x : transformGenHealth(x))\n",
        "heart_data.head()"
      ],
      "metadata": {
        "id": "u05BHpz5NrJl",
        "colab": {
          "base_uri": "https://localhost:8080/",
          "height": 300
        },
        "outputId": "8fd387d0-18de-440d-f0c9-aab70dd7bbc2"
      },
      "execution_count": null,
      "outputs": [
        {
          "output_type": "execute_result",
          "data": {
            "text/plain": [
              "   HeartDiseaseorAttack  HighBloodPressure  HighCholesterol  CholesterolCheck  \\\n",
              "0                   0.0                1.0              1.0               1.0   \n",
              "1                   0.0                0.0              0.0               0.0   \n",
              "2                   0.0                1.0              1.0               1.0   \n",
              "3                   0.0                1.0              0.0               1.0   \n",
              "4                   0.0                1.0              1.0               1.0   \n",
              "\n",
              "    BMI  Smoker  Stroke  Diabetes  PhysActivity  Fruits  ...  HasHealthcare  \\\n",
              "0  40.0     1.0     0.0         0           0.0     0.0  ...            1.0   \n",
              "1  25.0     1.0     0.0         0           1.0     0.0  ...            0.0   \n",
              "2  28.0     0.0     0.0         0           0.0     1.0  ...            1.0   \n",
              "3  27.0     0.0     0.0         0           1.0     1.0  ...            1.0   \n",
              "4  24.0     0.0     0.0         0           1.0     1.0  ...            1.0   \n",
              "\n",
              "   CantAffordDoc  GeneralHealth  MentalHealth  PhysicalHealth  \\\n",
              "0            0.0            1.0           1.0             2.0   \n",
              "1            1.0            3.0           4.0             4.0   \n",
              "2            1.0            1.0           0.0             0.0   \n",
              "3            0.0            4.0           4.0             4.0   \n",
              "4            0.0            4.0           3.0             4.0   \n",
              "\n",
              "   DifficultyWalking  Sex   Age  Education  Income  \n",
              "0                1.0  0.0   9.0        4.0     3.0  \n",
              "1                0.0  0.0   7.0        6.0     1.0  \n",
              "2                1.0  0.0   9.0        4.0     8.0  \n",
              "3                0.0  0.0  11.0        3.0     6.0  \n",
              "4                0.0  0.0  11.0        5.0     4.0  \n",
              "\n",
              "[5 rows x 22 columns]"
            ],
            "text/html": [
              "\n",
              "  <div id=\"df-59a23335-b2af-4a28-8b9e-937efff83a48\">\n",
              "    <div class=\"colab-df-container\">\n",
              "      <div>\n",
              "<style scoped>\n",
              "    .dataframe tbody tr th:only-of-type {\n",
              "        vertical-align: middle;\n",
              "    }\n",
              "\n",
              "    .dataframe tbody tr th {\n",
              "        vertical-align: top;\n",
              "    }\n",
              "\n",
              "    .dataframe thead th {\n",
              "        text-align: right;\n",
              "    }\n",
              "</style>\n",
              "<table border=\"1\" class=\"dataframe\">\n",
              "  <thead>\n",
              "    <tr style=\"text-align: right;\">\n",
              "      <th></th>\n",
              "      <th>HeartDiseaseorAttack</th>\n",
              "      <th>HighBloodPressure</th>\n",
              "      <th>HighCholesterol</th>\n",
              "      <th>CholesterolCheck</th>\n",
              "      <th>BMI</th>\n",
              "      <th>Smoker</th>\n",
              "      <th>Stroke</th>\n",
              "      <th>Diabetes</th>\n",
              "      <th>PhysActivity</th>\n",
              "      <th>Fruits</th>\n",
              "      <th>...</th>\n",
              "      <th>HasHealthcare</th>\n",
              "      <th>CantAffordDoc</th>\n",
              "      <th>GeneralHealth</th>\n",
              "      <th>MentalHealth</th>\n",
              "      <th>PhysicalHealth</th>\n",
              "      <th>DifficultyWalking</th>\n",
              "      <th>Sex</th>\n",
              "      <th>Age</th>\n",
              "      <th>Education</th>\n",
              "      <th>Income</th>\n",
              "    </tr>\n",
              "  </thead>\n",
              "  <tbody>\n",
              "    <tr>\n",
              "      <th>0</th>\n",
              "      <td>0.0</td>\n",
              "      <td>1.0</td>\n",
              "      <td>1.0</td>\n",
              "      <td>1.0</td>\n",
              "      <td>40.0</td>\n",
              "      <td>1.0</td>\n",
              "      <td>0.0</td>\n",
              "      <td>0</td>\n",
              "      <td>0.0</td>\n",
              "      <td>0.0</td>\n",
              "      <td>...</td>\n",
              "      <td>1.0</td>\n",
              "      <td>0.0</td>\n",
              "      <td>1.0</td>\n",
              "      <td>1.0</td>\n",
              "      <td>2.0</td>\n",
              "      <td>1.0</td>\n",
              "      <td>0.0</td>\n",
              "      <td>9.0</td>\n",
              "      <td>4.0</td>\n",
              "      <td>3.0</td>\n",
              "    </tr>\n",
              "    <tr>\n",
              "      <th>1</th>\n",
              "      <td>0.0</td>\n",
              "      <td>0.0</td>\n",
              "      <td>0.0</td>\n",
              "      <td>0.0</td>\n",
              "      <td>25.0</td>\n",
              "      <td>1.0</td>\n",
              "      <td>0.0</td>\n",
              "      <td>0</td>\n",
              "      <td>1.0</td>\n",
              "      <td>0.0</td>\n",
              "      <td>...</td>\n",
              "      <td>0.0</td>\n",
              "      <td>1.0</td>\n",
              "      <td>3.0</td>\n",
              "      <td>4.0</td>\n",
              "      <td>4.0</td>\n",
              "      <td>0.0</td>\n",
              "      <td>0.0</td>\n",
              "      <td>7.0</td>\n",
              "      <td>6.0</td>\n",
              "      <td>1.0</td>\n",
              "    </tr>\n",
              "    <tr>\n",
              "      <th>2</th>\n",
              "      <td>0.0</td>\n",
              "      <td>1.0</td>\n",
              "      <td>1.0</td>\n",
              "      <td>1.0</td>\n",
              "      <td>28.0</td>\n",
              "      <td>0.0</td>\n",
              "      <td>0.0</td>\n",
              "      <td>0</td>\n",
              "      <td>0.0</td>\n",
              "      <td>1.0</td>\n",
              "      <td>...</td>\n",
              "      <td>1.0</td>\n",
              "      <td>1.0</td>\n",
              "      <td>1.0</td>\n",
              "      <td>0.0</td>\n",
              "      <td>0.0</td>\n",
              "      <td>1.0</td>\n",
              "      <td>0.0</td>\n",
              "      <td>9.0</td>\n",
              "      <td>4.0</td>\n",
              "      <td>8.0</td>\n",
              "    </tr>\n",
              "    <tr>\n",
              "      <th>3</th>\n",
              "      <td>0.0</td>\n",
              "      <td>1.0</td>\n",
              "      <td>0.0</td>\n",
              "      <td>1.0</td>\n",
              "      <td>27.0</td>\n",
              "      <td>0.0</td>\n",
              "      <td>0.0</td>\n",
              "      <td>0</td>\n",
              "      <td>1.0</td>\n",
              "      <td>1.0</td>\n",
              "      <td>...</td>\n",
              "      <td>1.0</td>\n",
              "      <td>0.0</td>\n",
              "      <td>4.0</td>\n",
              "      <td>4.0</td>\n",
              "      <td>4.0</td>\n",
              "      <td>0.0</td>\n",
              "      <td>0.0</td>\n",
              "      <td>11.0</td>\n",
              "      <td>3.0</td>\n",
              "      <td>6.0</td>\n",
              "    </tr>\n",
              "    <tr>\n",
              "      <th>4</th>\n",
              "      <td>0.0</td>\n",
              "      <td>1.0</td>\n",
              "      <td>1.0</td>\n",
              "      <td>1.0</td>\n",
              "      <td>24.0</td>\n",
              "      <td>0.0</td>\n",
              "      <td>0.0</td>\n",
              "      <td>0</td>\n",
              "      <td>1.0</td>\n",
              "      <td>1.0</td>\n",
              "      <td>...</td>\n",
              "      <td>1.0</td>\n",
              "      <td>0.0</td>\n",
              "      <td>4.0</td>\n",
              "      <td>3.0</td>\n",
              "      <td>4.0</td>\n",
              "      <td>0.0</td>\n",
              "      <td>0.0</td>\n",
              "      <td>11.0</td>\n",
              "      <td>5.0</td>\n",
              "      <td>4.0</td>\n",
              "    </tr>\n",
              "  </tbody>\n",
              "</table>\n",
              "<p>5 rows × 22 columns</p>\n",
              "</div>\n",
              "      <button class=\"colab-df-convert\" onclick=\"convertToInteractive('df-59a23335-b2af-4a28-8b9e-937efff83a48')\"\n",
              "              title=\"Convert this dataframe to an interactive table.\"\n",
              "              style=\"display:none;\">\n",
              "        \n",
              "  <svg xmlns=\"http://www.w3.org/2000/svg\" height=\"24px\"viewBox=\"0 0 24 24\"\n",
              "       width=\"24px\">\n",
              "    <path d=\"M0 0h24v24H0V0z\" fill=\"none\"/>\n",
              "    <path d=\"M18.56 5.44l.94 2.06.94-2.06 2.06-.94-2.06-.94-.94-2.06-.94 2.06-2.06.94zm-11 1L8.5 8.5l.94-2.06 2.06-.94-2.06-.94L8.5 2.5l-.94 2.06-2.06.94zm10 10l.94 2.06.94-2.06 2.06-.94-2.06-.94-.94-2.06-.94 2.06-2.06.94z\"/><path d=\"M17.41 7.96l-1.37-1.37c-.4-.4-.92-.59-1.43-.59-.52 0-1.04.2-1.43.59L10.3 9.45l-7.72 7.72c-.78.78-.78 2.05 0 2.83L4 21.41c.39.39.9.59 1.41.59.51 0 1.02-.2 1.41-.59l7.78-7.78 2.81-2.81c.8-.78.8-2.07 0-2.86zM5.41 20L4 18.59l7.72-7.72 1.47 1.35L5.41 20z\"/>\n",
              "  </svg>\n",
              "      </button>\n",
              "      \n",
              "  <style>\n",
              "    .colab-df-container {\n",
              "      display:flex;\n",
              "      flex-wrap:wrap;\n",
              "      gap: 12px;\n",
              "    }\n",
              "\n",
              "    .colab-df-convert {\n",
              "      background-color: #E8F0FE;\n",
              "      border: none;\n",
              "      border-radius: 50%;\n",
              "      cursor: pointer;\n",
              "      display: none;\n",
              "      fill: #1967D2;\n",
              "      height: 32px;\n",
              "      padding: 0 0 0 0;\n",
              "      width: 32px;\n",
              "    }\n",
              "\n",
              "    .colab-df-convert:hover {\n",
              "      background-color: #E2EBFA;\n",
              "      box-shadow: 0px 1px 2px rgba(60, 64, 67, 0.3), 0px 1px 3px 1px rgba(60, 64, 67, 0.15);\n",
              "      fill: #174EA6;\n",
              "    }\n",
              "\n",
              "    [theme=dark] .colab-df-convert {\n",
              "      background-color: #3B4455;\n",
              "      fill: #D2E3FC;\n",
              "    }\n",
              "\n",
              "    [theme=dark] .colab-df-convert:hover {\n",
              "      background-color: #434B5C;\n",
              "      box-shadow: 0px 1px 3px 1px rgba(0, 0, 0, 0.15);\n",
              "      filter: drop-shadow(0px 1px 2px rgba(0, 0, 0, 0.3));\n",
              "      fill: #FFFFFF;\n",
              "    }\n",
              "  </style>\n",
              "\n",
              "      <script>\n",
              "        const buttonEl =\n",
              "          document.querySelector('#df-59a23335-b2af-4a28-8b9e-937efff83a48 button.colab-df-convert');\n",
              "        buttonEl.style.display =\n",
              "          google.colab.kernel.accessAllowed ? 'block' : 'none';\n",
              "\n",
              "        async function convertToInteractive(key) {\n",
              "          const element = document.querySelector('#df-59a23335-b2af-4a28-8b9e-937efff83a48');\n",
              "          const dataTable =\n",
              "            await google.colab.kernel.invokeFunction('convertToInteractive',\n",
              "                                                     [key], {});\n",
              "          if (!dataTable) return;\n",
              "\n",
              "          const docLinkHtml = 'Like what you see? Visit the ' +\n",
              "            '<a target=\"_blank\" href=https://colab.research.google.com/notebooks/data_table.ipynb>data table notebook</a>'\n",
              "            + ' to learn more about interactive tables.';\n",
              "          element.innerHTML = '';\n",
              "          dataTable['output_type'] = 'display_data';\n",
              "          await google.colab.output.renderOutput(dataTable, element);\n",
              "          const docLink = document.createElement('div');\n",
              "          docLink.innerHTML = docLinkHtml;\n",
              "          element.appendChild(docLink);\n",
              "        }\n",
              "      </script>\n",
              "    </div>\n",
              "  </div>\n",
              "  "
            ]
          },
          "metadata": {},
          "execution_count": 8
        }
      ]
    },
    {
      "cell_type": "code",
      "source": [
        "#set seaborn parameters to create a legible correlation heatmap\n",
        "sns.set(rc={'figure.figsize':(11.7,8.27)})\n",
        "sns.set(font_scale=0.5)"
      ],
      "metadata": {
        "id": "QE7pi57O_gbh"
      },
      "execution_count": null,
      "outputs": []
    },
    {
      "cell_type": "code",
      "source": [
        "#create correlation heatmap between all variables to see how\n",
        "heat = sns.heatmap(heart_data.corr(), vmin=-1, vmax=1, annot=True, cmap='RdBu')"
      ],
      "metadata": {
        "id": "B7jUQoc495KO",
        "colab": {
          "base_uri": "https://localhost:8080/",
          "height": 774
        },
        "outputId": "fe1ca8ca-88e2-4f39-c5bb-18171c90dc45"
      },
      "execution_count": null,
      "outputs": [
        {
          "output_type": "display_data",
          "data": {
            "text/plain": [
              "<Figure size 1170x827 with 2 Axes>"
            ],
            "image/png": "[encoded data removed]"
          },
          "metadata": {}
        }
      ]
    },
    {
      "cell_type": "code",
      "source": [
        "#   Create a box plot showing the distribution of age by heart disease status\n",
        "\n",
        "# Create a new dataframe with columns 'Age' and 'heart_disease'\n",
        "age_hd = heart_data.loc[:, ['Age', 'HeartDiseaseorAttack']]\n",
        "\n",
        "# Create the box plot\n",
        "fig, ax = plt.subplots(figsize=(8, 6))\n",
        "sns.boxplot(x='HeartDiseaseorAttack', y='Age', data=age_hd)\n",
        "ax.set_xlabel('Heart Disease Status')\n",
        "ax.set_ylabel('Age')\n",
        "ax.set_title('Distribution of Age by Heart Disease Status')\n",
        "plt.show()"
      ],
      "metadata": {
        "colab": {
          "base_uri": "https://localhost:8080/",
          "height": 551
        },
        "id": "G1LX9vzM4m55",
        "outputId": "9a977430-8296-4d3b-97fd-f83a22ee3d78"
      },
      "execution_count": null,
      "outputs": [
        {
          "output_type": "display_data",
          "data": {
            "text/plain": [
              "<Figure size 800x600 with 1 Axes>"
            ],
            "image/png": "[encoded data removed]"
          },
          "metadata": {}
        }
      ]
    },
    {
      "cell_type": "code",
      "source": [
        "# Create a new dataframe with columns 'Age', 'HeartDiseaseorAttack', and 'SmokingStatus'\n",
        "age_hd_smoke = heart_data.loc[:, ['Age', 'HeartDiseaseorAttack', 'Smoker']]\n",
        "\n",
        "# Filter for non-smokers and smokers\n",
        "non_smokers = age_hd_smoke[age_hd_smoke['Smoker'] == 0.0]\n",
        "smokers = age_hd_smoke[age_hd_smoke['Smoker'] == 1.0]\n",
        "\n",
        "# Create the histogram plot for non-smokers and smokers side by side\n",
        "fig, ax = plt.subplots(figsize=(8, 6))\n",
        "bar_width = 0.35\n",
        "opacity = 0.8\n",
        "\n",
        "sns.histplot(x='Age', hue='Smoker', data=non_smokers, alpha=0.8, color='blue', stat= 'count', label='Non-smoker', binwidth=bar_width, multiple='dodge')\n",
        "sns.histplot(x='Age', hue='Smoker', data=smokers, alpha=0.8, color='orange', label='Smoker', binwidth=bar_width, multiple='dodge')\n",
        "\n",
        "ax.set_xlabel('Age')\n",
        "ax.set_ylabel('Number of HeartDiseaseorAttack')\n",
        "ax.set_title('Distribution of Heart Disease or Attack by Age for Non-Smokers and Smokers')\n",
        "ax.legend()\n",
        "plt.tight_layout()\n",
        "plt.show()"
      ],
      "metadata": {
        "id": "2hDxlC1GiT70",
        "colab": {
          "base_uri": "https://localhost:8080/",
          "height": 619
        },
        "outputId": "8ce03274-3d37-4291-a987-1d38ad870279"
      },
      "execution_count": null,
      "outputs": [
        {
          "output_type": "display_data",
          "data": {
            "text/plain": [
              "<Figure size 800x600 with 1 Axes>"
            ],
            "image/png": "[encoded data removed]"
          },
          "metadata": {}
        }
      ]
    },
    {
      "cell_type": "markdown",
      "source": [
        "#Sampling"
      ],
      "metadata": {
        "id": "ngIU-TGsw5aX"
      }
    },
    {
      "cell_type": "markdown",
      "source": [
        "From the **EDA** section above we know that the non-heart disease/attack class is larger, but let's calculate the actual size of the abundant and sparse classes:"
      ],
      "metadata": {
        "id": "IYEBWOlg6knC"
      }
    },
    {
      "cell_type": "code",
      "source": [
        "#determine size of heart disease/attack class, and non-heart disease/attack class\n",
        "print('Size of heart disease/attack class: ' \\\n",
        "      + str(heart_data[heart_data['HeartDiseaseorAttack']==1.0].shape[0]))\n",
        "print('Size of non-heart disease/attack class: ' \\\n",
        "      + str(heart_data[heart_data['HeartDiseaseorAttack']==0.0].shape[0]))"
      ],
      "metadata": {
        "id": "bKR7Ey0Yw4lP"
      },
      "execution_count": null,
      "outputs": []
    },
    {
      "cell_type": "markdown",
      "source": [
        "First, we will set apart 20% of the data for testing purposes:"
      ],
      "metadata": {
        "id": "zvhrhJ4QYUxN"
      }
    },
    {
      "cell_type": "code",
      "source": [
        "#use the sample() method to shuffle the data\n",
        "heart_shuffled = heart_data.sample(frac=1, ignore_index=True)"
      ],
      "metadata": {
        "id": "6JVAp3dlbDv0"
      },
      "execution_count": null,
      "outputs": []
    },
    {
      "cell_type": "code",
      "source": [
        "#use the first 20% of data for testing, and last 80% for training\n",
        "heart_test = heart_shuffled.iloc[:50736, :]\n",
        "heart_train = heart_shuffled.iloc[50736:, :]"
      ],
      "metadata": {
        "id": "ym66WyN8YvUH"
      },
      "execution_count": null,
      "outputs": []
    },
    {
      "cell_type": "markdown",
      "source": [
        "##Creating an array of samples by iteratively undersampling"
      ],
      "metadata": {
        "id": "7T8XILsiOIvl"
      }
    },
    {
      "cell_type": "markdown",
      "source": [
        "There is approximately 10 times more abundant data than sparse data.  We will create 5 better-balanced datasets comprised of *a fifth* of the abundant training data and *all* the sparse training data for later modeling via bagging and stacking:"
      ],
      "metadata": {
        "id": "pSTbWPBbzSWn"
      }
    },
    {
      "cell_type": "code",
      "source": [
        "#create a sparse training dataset and an abundant training dataset\n",
        "abun_train_df = heart_train[heart_train['HeartDiseaseorAttack']==0.0].sample(frac=1, ignore_index=True)\n",
        "sparse_train_df = heart_train[heart_train['HeartDiseaseorAttack']==1.0]"
      ],
      "metadata": {
        "id": "Mk2QcUG6yPQS"
      },
      "execution_count": null,
      "outputs": []
    },
    {
      "cell_type": "code",
      "source": [
        "#create 5 groups of samples that are a fifth the length of abun_df, append the sparse_df to each,\n",
        "#then shuffle\n",
        "under_samples = []\n",
        "under_samples.append(pd.concat([abun_train_df.iloc[:36765, :], sparse_train_df], axis=0).sample(frac=1))\n",
        "under_samples.append(pd.concat([abun_train_df.iloc[36765:73530, :], sparse_train_df], axis=0).sample(frac=1))\n",
        "under_samples.append(pd.concat([abun_train_df.iloc[73530:110295, :], sparse_train_df], axis=0).sample(frac=1))\n",
        "under_samples.append(pd.concat([abun_train_df.iloc[110295:147060, :], sparse_train_df], axis=0).sample(frac=1))\n",
        "under_samples.append(pd.concat([abun_train_df.iloc[147060:, :], sparse_train_df], axis=0).sample(frac=1))"
      ],
      "metadata": {
        "id": "CK70ZXUOzQbj"
      },
      "execution_count": null,
      "outputs": []
    },
    {
      "cell_type": "markdown",
      "source": [
        "##Oversampling with the resample() method"
      ],
      "metadata": {
        "id": "WICrYHIgOco6"
      }
    },
    {
      "cell_type": "markdown",
      "source": [
        "Our next approach to sampling will be to \"reuse\" the sparse data until approximate parity is reached with the abundant data.  This means duplicating each heart disease/attack case nine times."
      ],
      "metadata": {
        "id": "HdAkgY2IQSYe"
      }
    },
    {
      "cell_type": "code",
      "source": [
        "features = heart_data.drop(columns='HeartDiseaseorAttack')\n",
        "targets = heart_data['HeartDiseaseorAttack']\n",
        "X_train, X_test_re, y_train, y_test_re = train_test_split(features, targets, test_size=0.25, random_state=0)"
      ],
      "metadata": {
        "id": "kSRCNY8FQCll"
      },
      "execution_count": null,
      "outputs": []
    },
    {
      "cell_type": "code",
      "source": [
        "all_train = pd.concat([X_train, y_train], axis=1)\n",
        "abun_train_df = all_train[all_train['HeartDiseaseorAttack']==0.0].sample(frac=1, ignore_index=True)\n",
        "sparse_train_df = all_train[all_train['HeartDiseaseorAttack']==1.0]"
      ],
      "metadata": {
        "id": "6LfcZlGqnVwj"
      },
      "execution_count": null,
      "outputs": []
    },
    {
      "cell_type": "code",
      "source": [
        "sparse_up = resample(sparse_train_df, replace=True, n_samples=int(len(abun_train_df)/3), random_state=0)"
      ],
      "metadata": {
        "id": "_jp0_5qcnYt0"
      },
      "execution_count": null,
      "outputs": []
    },
    {
      "cell_type": "code",
      "source": [
        "oversample = pd.concat([abun_train_df, sparse_up]).sample(frac=1, ignore_index=True)"
      ],
      "metadata": {
        "id": "NqbkYuSRnbrs"
      },
      "execution_count": null,
      "outputs": []
    },
    {
      "cell_type": "markdown",
      "source": [
        "#Modeling"
      ],
      "metadata": {
        "id": "_0SyrKmDDFka"
      }
    },
    {
      "cell_type": "markdown",
      "source": [
        "##Logistic Regression on the Original Dataset\n",
        "\n",
        "\n"
      ],
      "metadata": {
        "id": "bEFN-rofDIDg"
      }
    },
    {
      "cell_type": "markdown",
      "source": [
        "To get a baseline accuracy, we will run a train-test split then run a simple logistic regression on the data.  "
      ],
      "metadata": {
        "id": "eFCG6dkOGx4P"
      }
    },
    {
      "cell_type": "code",
      "source": [
        "#split into features and target (i.e. heart disease/attack)\n",
        "features = heart_data.drop(columns='HeartDiseaseorAttack')\n",
        "target = heart_data['HeartDiseaseorAttack']"
      ],
      "metadata": {
        "id": "fM89JqLCDPER"
      },
      "execution_count": null,
      "outputs": []
    },
    {
      "cell_type": "code",
      "source": [
        "X_train, X_test, y_train, y_test = train_test_split(features, target, test_size=0.2, random_state=0)"
      ],
      "metadata": {
        "id": "9BZ43LDnDUrp"
      },
      "execution_count": null,
      "outputs": []
    },
    {
      "cell_type": "code",
      "source": [
        "#initialize model fit it to the training set\n",
        "lr = LogisticRegression().fit(X_train, y_train)\n",
        "#use the above model to make predictions\n",
        "prediction = lr.predict(X_test)\n",
        "#find the accuracy of the logistic regression method\n",
        "log_acc = lr.score(X_test, y_test)"
      ],
      "metadata": {
        "id": "eJsL5-k7KuAh"
      },
      "execution_count": null,
      "outputs": []
    },
    {
      "cell_type": "code",
      "source": [
        "log_acc"
      ],
      "metadata": {
        "id": "_hgXD08GKxu3"
      },
      "execution_count": null,
      "outputs": []
    },
    {
      "cell_type": "markdown",
      "source": [
        "It seems that the accuracy is very close to the percentage of non-heart disease/attack cases, approximately 90%.  This implies that the logistic regression model is too simplistic, classifying almost everything as the abundant case.  We can support this assumption by plotting the confusion matrix:"
      ],
      "metadata": {
        "id": "0e849ZJ7HMNS"
      }
    },
    {
      "cell_type": "code",
      "source": [
        "cm = metrics.confusion_matrix(y_test, prediction)\n",
        "plt.figure(figsize=(6,6))\n",
        "sns.set(font_scale=1.4)\n",
        "sns.heatmap(cm, annot=True, fmt=\".3f\", linewidths=.5, square = True, cmap = 'GnBu');\n",
        "plt.ylabel('Actual label');\n",
        "plt.xlabel('Predicted label');"
      ],
      "metadata": {
        "id": "_7Ql3mqpJEMy"
      },
      "execution_count": null,
      "outputs": []
    },
    {
      "cell_type": "code",
      "source": [
        "#precision = (TP / (TP + FP))\n",
        "precision = (687 / (687 + 555))\n",
        "precision"
      ],
      "metadata": {
        "id": "d619vjXYBR_3"
      },
      "execution_count": null,
      "outputs": []
    },
    {
      "cell_type": "code",
      "source": [
        "#false negative rate = (FN / (FN + TP)\n",
        "fnr = (4085/ (4085 + 687))\n",
        "fnr"
      ],
      "metadata": {
        "id": "_9FLHRFzLC16"
      },
      "execution_count": null,
      "outputs": []
    },
    {
      "cell_type": "markdown",
      "source": [
        "As expected, the precision is low at about 55% and the false negative rate is very high at about 85%.  These values both imply that the model cannot reliably predict a positive case.  We need a more sophisticated approach to create an accurate model with this particular dataset.  We will now try various ensembling approaches."
      ],
      "metadata": {
        "id": "Zu9aEJOkKaPZ"
      }
    },
    {
      "cell_type": "markdown",
      "source": [
        "##Bagging: Creating an Ensemble of Decision Trees"
      ],
      "metadata": {
        "id": "oc_sxdAPWmbM"
      }
    },
    {
      "cell_type": "markdown",
      "source": [
        "With our list of 10 balanced datasets from the **Sampling** section, we will train 10 decision tree classifiers and use them in a bagging model:"
      ],
      "metadata": {
        "id": "RkK1_jIkfTL8"
      }
    },
    {
      "cell_type": "code",
      "source": [
        "forrest_list = []\n",
        "#loop through the list of balanced samples\n",
        "for sample in under_samples:\n",
        "  #split into features and targets\n",
        "  under_features = sample.drop(columns='HeartDiseaseorAttack')\n",
        "  under_targets = sample['HeartDiseaseorAttack']\n",
        "  #create and train a new decision tree\n",
        "  dt = tree.DecisionTreeClassifier()\n",
        "  dt = dt.fit(under_features, under_targets)\n",
        "  #add the new decision tree to the forrest\n",
        "  forrest_list.append(dt)"
      ],
      "metadata": {
        "id": "dAskGWOyWmCl"
      },
      "execution_count": null,
      "outputs": []
    },
    {
      "cell_type": "code",
      "source": [
        "#split the test dataset into features and targets\n",
        "test_features = heart_test.drop(columns='HeartDiseaseorAttack')\n",
        "test_targets = heart_test['HeartDiseaseorAttack']"
      ],
      "metadata": {
        "id": "bg6GKiYS3mja"
      },
      "execution_count": null,
      "outputs": []
    },
    {
      "cell_type": "code",
      "source": [
        "#create a numpy array of all zeros w/ length of test dataset\n",
        "#this will serve as a running total of \"votes\" for a classification of 1\n",
        "running_totals = np.zeros(50736)\n",
        "#for each tree in the ensemble\n",
        "for dt in forrest_list:\n",
        "  #determine predictions for each row in the test dataset\n",
        "  pred = dt.predict(test_features)\n",
        "  #add new \"votes\" for classification of 1 for that row\n",
        "  running_totals += pred"
      ],
      "metadata": {
        "id": "6IdpBmcJWl_o"
      },
      "execution_count": null,
      "outputs": []
    },
    {
      "cell_type": "code",
      "source": [
        "#for every row that has > 4 \"votes\", make classification 1\n",
        "#else, make classification 0\n",
        "predictions_list = [1 if num > 4 else 0 for num in running_totals]\n",
        "#give both predictions and targets a numpy array form\n",
        "test_predictions = np.array(predictions_list)\n",
        "test_targets = test_targets.to_numpy()"
      ],
      "metadata": {
        "id": "mZ9W98eYlJH2"
      },
      "execution_count": null,
      "outputs": []
    },
    {
      "cell_type": "code",
      "source": [
        "#divide total correct predictions by number of predictions to determine accuracy\n",
        "correct = (test_predictions == test_targets)\n",
        "accuracy = correct.sum() / correct.size\n",
        "accuracy"
      ],
      "metadata": {
        "id": "WMpwjfHqzYlQ"
      },
      "execution_count": null,
      "outputs": []
    },
    {
      "cell_type": "markdown",
      "source": [
        "##Stacking"
      ],
      "metadata": {
        "id": "u79vlLKTMmrQ"
      }
    },
    {
      "cell_type": "markdown",
      "source": [
        "We will now determine if"
      ],
      "metadata": {
        "id": "70fUIkSMNQWo"
      }
    },
    {
      "cell_type": "code",
      "source": [
        "#initiate classifiers and add them to a dictionary\n",
        "lr = LogisticRegression()\n",
        "kn = KNeighborsClassifier()\n",
        "dt = tree.DecisionTreeClassifier()\n",
        "nb = GaussianNB()\n",
        "rf = RandomForestClassifier()\n",
        "classifier_list = [lr, kn, dt, nb, rf]"
      ],
      "metadata": {
        "id": "LP7_Fkd4MisG"
      },
      "execution_count": null,
      "outputs": []
    },
    {
      "cell_type": "code",
      "source": [
        "#split the test dataset into features and targets\n",
        "test_features = heart_test.drop(columns='HeartDiseaseorAttack')\n",
        "test_targets = heart_test['HeartDiseaseorAttack']"
      ],
      "metadata": {
        "id": "dX607qwggiyJ"
      },
      "execution_count": null,
      "outputs": []
    },
    {
      "cell_type": "code",
      "source": [
        "#loop through the list of balanced samples\n",
        "for clf in classifier_list:\n",
        "  #split into features and targets\n",
        "  train_features = heart_train.drop(columns='HeartDiseaseorAttack')\n",
        "  train_targets = heart_train['HeartDiseaseorAttack']\n",
        "  #choose a classifier from the list and train it\n",
        "  clf = clf.fit(train_features, train_targets)"
      ],
      "metadata": {
        "id": "z7iiwwk4beZW"
      },
      "execution_count": null,
      "outputs": []
    },
    {
      "cell_type": "code",
      "source": [
        "#create a numpy array of all zeros w/ length of test dataset\n",
        "#this will serve as a running total of \"votes\" for a classification of 1\n",
        "running_totals = np.zeros(50736)\n",
        "#for each classifier in the ensemble\n",
        "for clf in classifier_list:\n",
        "  #determine predictions for each row in the test dataset\n",
        "  pred = clf.predict(test_features)\n",
        "  #add new \"votes\" for classification of 1 for that row\n",
        "  running_totals += pred"
      ],
      "metadata": {
        "id": "2HOtCe4neNIf"
      },
      "execution_count": null,
      "outputs": []
    },
    {
      "cell_type": "code",
      "source": [
        "#for every row that has >= 5 \"votes\", make classification 1\n",
        "#else, make classification 0\n",
        "predictions_list = [1 if num > 4 else 0 for num in running_totals]\n",
        "#give both predictions and targets a numpy array form\n",
        "test_predictions = np.array(predictions_list)\n",
        "test_targets = test_targets.to_numpy()"
      ],
      "metadata": {
        "id": "aLNjWZsFfWaF"
      },
      "execution_count": null,
      "outputs": []
    },
    {
      "cell_type": "code",
      "source": [
        "#divide total correct predictions by number of predictions to determine accuracy\n",
        "correct = (test_predictions == test_targets)\n",
        "accuracy = correct.sum() / correct.size\n",
        "accuracy"
      ],
      "metadata": {
        "id": "YVMhQFvGffuU"
      },
      "execution_count": null,
      "outputs": []
    }
  ]
}